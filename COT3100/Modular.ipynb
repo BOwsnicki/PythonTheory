{
 "cells": [
  {
   "cell_type": "markdown",
   "metadata": {},
   "source": [
    "### Modular operations addition, multiplication, congruence mod m"
   ]
  },
  {
   "cell_type": "code",
   "execution_count": 6,
   "metadata": {},
   "outputs": [],
   "source": [
    "# modular addition/multiplication (trivial, but a little dangerous - why??)\n",
    "def addModNotGood(a,b,m) :\n",
    "    return (a + b)%m\n",
    "\n",
    "def multModNotGood(a,b,m) :\n",
    "    return (a*b)%m"
   ]
  },
  {
   "cell_type": "code",
   "execution_count": 2,
   "metadata": {},
   "outputs": [
    {
     "data": {
      "text/plain": [
       "3"
      ]
     },
     "execution_count": 2,
     "metadata": {},
     "output_type": "execute_result"
    }
   ],
   "source": [
    "multModNotGood(34,25,11)"
   ]
  },
  {
   "cell_type": "code",
   "execution_count": 4,
   "metadata": {},
   "outputs": [],
   "source": [
    "# modular addition/multiplication (better)\n",
    "def addMod(a,b,m) :\n",
    "    return (a%m + b%m)%m\n",
    "\n",
    "def multMod(a,b,m) :\n",
    "    return ((a%m)*(b%m))%m"
   ]
  },
  {
   "cell_type": "code",
   "execution_count": 5,
   "metadata": {},
   "outputs": [
    {
     "data": {
      "text/plain": [
       "3"
      ]
     },
     "execution_count": 5,
     "metadata": {},
     "output_type": "execute_result"
    }
   ],
   "source": [
    "multMod(34,25,11)"
   ]
  },
  {
   "cell_type": "code",
   "execution_count": 3,
   "metadata": {},
   "outputs": [],
   "source": [
    "# congruence mod m\n",
    "def congMod(a,b,m) :\n",
    "    return (a-b)%m == 0"
   ]
  },
  {
   "cell_type": "code",
   "execution_count": 4,
   "metadata": {},
   "outputs": [
    {
     "data": {
      "text/plain": [
       "True"
      ]
     },
     "execution_count": 4,
     "metadata": {},
     "output_type": "execute_result"
    }
   ],
   "source": [
    "congMod(12,28,4)"
   ]
  },
  {
   "cell_type": "markdown",
   "metadata": {},
   "source": [
    "### Exponentiation mod m\n",
    "1. Recursively (to demonstrate the principle)\n",
    "2. Principal iterative version with exponential speed-up\n",
    "2. How it's actually used"
   ]
  },
  {
   "cell_type": "code",
   "execution_count": 5,
   "metadata": {},
   "outputs": [],
   "source": [
    "# Just for demonstration - there are better ways to compute that\n",
    "def expModRec(a,n,m) :\n",
    "    if n == 0 : return 1\n",
    "    else      : return (a%m)*expModRec(a,n-1,m) % m"
   ]
  },
  {
   "cell_type": "code",
   "execution_count": 6,
   "metadata": {},
   "outputs": [
    {
     "data": {
      "text/plain": [
       "267"
      ]
     },
     "execution_count": 6,
     "metadata": {},
     "output_type": "execute_result"
    }
   ],
   "source": [
    "expModRec(123,456,987)"
   ]
  },
  {
   "cell_type": "markdown",
   "metadata": {},
   "source": [
    "Fast (?) algorithm for exponentiation mod m - (x^e) mod m  \n",
    "Fast if the standard exponentiation algorithm doesn't use binary templates"
   ]
  },
  {
   "cell_type": "code",
   "execution_count": 7,
   "metadata": {},
   "outputs": [],
   "source": [
    "def fastExpModManual(x,e,m):\n",
    "     X = x\n",
    "     E = e\n",
    "     Y = 1\n",
    "     while E > 0:\n",
    "         if E % 2 == 0:         # Even - divide by two for exponential speedup\n",
    "             X = (X * X) % m\n",
    "             E = E/2\n",
    "         else:\n",
    "             Y = (X * Y) % m    # Odd - subtract one and then jump next round\n",
    "             E = E - 1\n",
    "     return Y"
   ]
  },
  {
   "cell_type": "code",
   "execution_count": 8,
   "metadata": {},
   "outputs": [
    {
     "data": {
      "text/plain": [
       "267"
      ]
     },
     "execution_count": 8,
     "metadata": {},
     "output_type": "execute_result"
    }
   ],
   "source": [
    "fastExpModManual(123,456,987)"
   ]
  },
  {
   "cell_type": "markdown",
   "metadata": {},
   "source": [
    "### The Python pow method has binary speed-up\n",
    "That's what we're going to use"
   ]
  },
  {
   "cell_type": "code",
   "execution_count": 9,
   "metadata": {},
   "outputs": [],
   "source": [
    "def fastExpMod(x, e, m) :   # Just to make code \"portable\"\n",
    "    return pow(x,e,m)       # Well, this thing uses binary templates and is A LOT faster!"
   ]
  },
  {
   "cell_type": "code",
   "execution_count": 10,
   "metadata": {},
   "outputs": [
    {
     "data": {
      "text/plain": [
       "267"
      ]
     },
     "execution_count": 10,
     "metadata": {},
     "output_type": "execute_result"
    }
   ],
   "source": [
    "fastExpMod(123,456,987)"
   ]
  },
  {
   "cell_type": "markdown",
   "metadata": {},
   "source": [
    "Use the Extended Euclidean Algorithm to compute the first Bézout coefficient"
   ]
  },
  {
   "cell_type": "code",
   "execution_count": 7,
   "metadata": {},
   "outputs": [],
   "source": [
    "from Numbers import xgcd\n",
    "def modInverse(a,m) :\n",
    "    _, s, _ = xgcd(a,m)\n",
    "    return s%m"
   ]
  },
  {
   "cell_type": "code",
   "execution_count": 8,
   "metadata": {},
   "outputs": [
    {
     "data": {
      "text/plain": [
       "3"
      ]
     },
     "execution_count": 8,
     "metadata": {},
     "output_type": "execute_result"
    }
   ],
   "source": [
    "modInverse(3,4)"
   ]
  },
  {
   "cell_type": "markdown",
   "metadata": {},
   "source": [
    "Now you can use the modular inverse if it exists, to divide mod a prime number"
   ]
  },
  {
   "cell_type": "code",
   "execution_count": 13,
   "metadata": {},
   "outputs": [],
   "source": [
    "# Compute (a/b) mod p for prime p \n",
    "# We're not testing that \n",
    "# USE AT YOUR OWN RISK\n",
    "def divMod(a,b,p) :\n",
    "    return multMod(a,modInverse(b,p),p)"
   ]
  },
  {
   "cell_type": "code",
   "execution_count": 14,
   "metadata": {},
   "outputs": [
    {
     "data": {
      "text/plain": [
       "16"
      ]
     },
     "execution_count": 14,
     "metadata": {},
     "output_type": "execute_result"
    }
   ],
   "source": [
    "divMod(12,5,17)"
   ]
  },
  {
   "cell_type": "markdown",
   "metadata": {},
   "source": [
    "**Discrete Logarithm: solve y = a^b mod p for b**  \n",
    "Just try exponentiation with b = 0, 1, 2, 3, ... until it solves  \n",
    "Only good for small p"
   ]
  },
  {
   "cell_type": "code",
   "execution_count": 16,
   "metadata": {},
   "outputs": [],
   "source": [
    "def dLog(a,p,y) :\n",
    "    b = 0\n",
    "    while fastExpMod(a,b,p) != y : # brute force\n",
    "        b += 1\n",
    "    return b"
   ]
  },
  {
   "cell_type": "code",
   "execution_count": 18,
   "metadata": {},
   "outputs": [
    {
     "name": "stdout",
     "output_type": "stream",
     "text": [
      "267\n"
     ]
    },
    {
     "data": {
      "text/plain": [
       "42"
      ]
     },
     "execution_count": 18,
     "metadata": {},
     "output_type": "execute_result"
    }
   ],
   "source": [
    "y = fastExpMod(123,456,987)\n",
    "print(y)\n",
    "dLog(123,987,y)"
   ]
  }
 ],
 "metadata": {
  "kernelspec": {
   "display_name": "Python 3",
   "language": "python",
   "name": "python3"
  },
  "language_info": {
   "codemirror_mode": {
    "name": "ipython",
    "version": 3
   },
   "file_extension": ".py",
   "mimetype": "text/x-python",
   "name": "python",
   "nbconvert_exporter": "python",
   "pygments_lexer": "ipython3",
   "version": "3.7.3"
  }
 },
 "nbformat": 4,
 "nbformat_minor": 2
}
